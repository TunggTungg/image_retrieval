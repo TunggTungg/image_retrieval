{
 "cells": [
  {
   "cell_type": "markdown",
   "metadata": {
    "id": "Yb3TdMZAkVNq"
   },
   "source": [
    "<h2 align=center> Optimize TensorFlow Models For Deployment with TensorRT</h2>"
   ]
  },
  {
   "cell_type": "markdown",
   "metadata": {
    "id": "LG4IBNn-2PWY"
   },
   "source": [
    "# 1.0 Install TensorFlow-GPU 2.0 and TensorRT Runtime"
   ]
  },
  {
   "cell_type": "markdown",
   "metadata": {},
   "source": [
    "https://forums.developer.nvidia.com/t/notice-cuda-linux-repository-key-rotation/212772"
   ]
  },
  {
   "cell_type": "code",
   "execution_count": 34,
   "metadata": {},
   "outputs": [
    {
     "name": "stdout",
     "output_type": "stream",
     "text": [
      "Reading package lists... Done \n",
      "Building dependency tree... Done\n",
      "Reading state information... Done\n",
      "python3-libnvinfer is already the newest version (8.6.1.6-1+cuda12.0).\n",
      "0 upgraded, 0 newly installed, 0 to remove and 2 not upgraded.\n"
     ]
    }
   ],
   "source": [
    "!echo \"20052001\" | sudo -S apt-get install python3-libnvinfer "
   ]
  },
  {
   "cell_type": "code",
   "execution_count": 35,
   "metadata": {
    "colab": {
     "base_uri": "https://localhost:8080/"
    },
    "id": "QgPSkMlSjd-n",
    "outputId": "8d57f4bb-15fb-48f5-e029-65f6c38a8190"
   },
   "outputs": [
    {
     "name": "stdout",
     "output_type": "stream",
     "text": [
      "Requirement already satisfied: tensorrt in /home/bequyttt/miniconda3/envs/image_retrieval/lib/python3.10/site-packages (8.6.1.post1)\n"
     ]
    }
   ],
   "source": [
    "!python3 -m pip install --upgrade tensorrt"
   ]
  },
  {
   "cell_type": "code",
   "execution_count": 36,
   "metadata": {},
   "outputs": [
    {
     "name": "stdout",
     "output_type": "stream",
     "text": [
      "8.6.1\n"
     ]
    }
   ],
   "source": [
    "import tensorrt\n",
    "print(tensorrt.__version__)"
   ]
  },
  {
   "cell_type": "code",
   "execution_count": 1,
   "metadata": {
    "colab": {
     "base_uri": "https://localhost:8080/"
    },
    "id": "IDm3bHiQu7KY",
    "outputId": "e581fdb0-8256-4ed5-c9a8-63f4d85323df"
   },
   "outputs": [
    {
     "ename": "ModuleNotFoundError",
     "evalue": "No module named 'tensorflow'",
     "output_type": "error",
     "traceback": [
      "\u001b[0;31m---------------------------------------------------------------------------\u001b[0m",
      "\u001b[0;31mModuleNotFoundError\u001b[0m                       Traceback (most recent call last)",
      "Cell \u001b[0;32mIn[1], line 2\u001b[0m\n\u001b[1;32m      1\u001b[0m \u001b[38;5;66;03m# check TensorRT version\u001b[39;00m\n\u001b[0;32m----> 2\u001b[0m \u001b[38;5;28;01mimport\u001b[39;00m \u001b[38;5;21;01mtensorflow\u001b[39;00m \u001b[38;5;28;01mas\u001b[39;00m \u001b[38;5;21;01mtf\u001b[39;00m\n\u001b[1;32m      3\u001b[0m \u001b[38;5;28mprint\u001b[39m(\u001b[38;5;124m\"\u001b[39m\u001b[38;5;124mTensorFlow version: \u001b[39m\u001b[38;5;124m\"\u001b[39m, tf\u001b[38;5;241m.\u001b[39mversion\u001b[38;5;241m.\u001b[39mVERSION)\n\u001b[1;32m      4\u001b[0m \u001b[38;5;28mprint\u001b[39m(\u001b[38;5;124m\"\u001b[39m\u001b[38;5;124mTensorRT version: \u001b[39m\u001b[38;5;124m\"\u001b[39m)\n",
      "\u001b[0;31mModuleNotFoundError\u001b[0m: No module named 'tensorflow'"
     ]
    }
   ],
   "source": [
    "# check TensorRT version\n",
    "import tensorflow as tf\n",
    "print(\"TensorFlow version: \", tf.version.VERSION)\n",
    "print(\"TensorRT version: \")\n",
    "!dpkg -l | grep nvinfer"
   ]
  },
  {
   "cell_type": "markdown",
   "metadata": {
    "id": "9JVwYkjVmnzb"
   },
   "source": [
    "# 2.0 Load Data"
   ]
  },
  {
   "cell_type": "code",
   "execution_count": 8,
   "metadata": {
    "colab": {
     "base_uri": "https://localhost:8080/"
    },
    "id": "wpP4kkDgvz0q",
    "outputId": "a9bdda61-e79a-4251-aab0-f149bbbd58e1"
   },
   "outputs": [
    {
     "name": "stdout",
     "output_type": "stream",
     "text": [
      "Downloading...\n",
      "From (original): https://drive.google.com/uc?id=1I8aXVlt9qY3ldScHvqJvH9M7F72mtf5V\n",
      "From (redirected): https://drive.google.com/uc?id=1I8aXVlt9qY3ldScHvqJvH9M7F72mtf5V&confirm=t&uuid=5ba61f63-b426-4f9a-914c-85f6c3d4ce90\n",
      "To: /content/[CODE] image_retrieval.zip\n",
      "100% 2.18G/2.18G [00:18<00:00, 120MB/s]\n"
     ]
    }
   ],
   "source": [
    "!gdown 1I8aXVlt9qY3ldScHvqJvH9M7F72mtf5V"
   ]
  },
  {
   "cell_type": "code",
   "execution_count": 9,
   "metadata": {
    "id": "a67qeByONIZu"
   },
   "outputs": [],
   "source": [
    "old_name = r\"/content/[CODE] image_retrieval.zip\"\n",
    "new_name = r\"/content/image_retrieval.zip\"\n",
    "os.rename(old_name, new_name)"
   ]
  },
  {
   "cell_type": "code",
   "execution_count": 10,
   "metadata": {
    "id": "FFowxdv4wEWa"
   },
   "outputs": [],
   "source": [
    "!unzip -q /content/image_retrieval.zip -d /content/image_retrieval"
   ]
  },
  {
   "cell_type": "markdown",
   "metadata": {
    "id": "nWYufTjPCMgW"
   },
   "source": [
    "# 3.0 Importing required libraries"
   ]
  },
  {
   "cell_type": "code",
   "execution_count": 38,
   "metadata": {
    "id": "Yyzwxjlm37jx"
   },
   "outputs": [],
   "source": [
    "# Re-run after Kernel restart\n",
    "import os\n",
    "import time\n",
    "from tqdm import tqdm\n",
    "\n",
    "import math\n",
    "import numpy as np\n",
    "import matplotlib.pyplot as plt\n",
    "\n",
    "import tensorflow as tf\n",
    "from tensorflow import keras\n",
    "from tensorflow.python.compiler.tensorrt import trt_convert as trt\n",
    "from tensorflow.python.saved_model import tag_constants\n",
    "from tensorflow.keras.preprocessing import image\n",
    "from tensorflow.keras.applications.resnet50 import ResNet50, preprocess_input"
   ]
  },
  {
   "cell_type": "markdown",
   "metadata": {
    "id": "LATjAERrmgn3"
   },
   "source": [
    "# 4.0 Config Parameters"
   ]
  },
  {
   "cell_type": "code",
   "execution_count": 71,
   "metadata": {
    "id": "t7hSUVtWnPvW"
   },
   "outputs": [],
   "source": [
    "root_img_path = \"/content/image_retrieval/img/\"\n",
    "root_fearure_path = \"/content/\"\n",
    "dic_categories = ['scenery', 'furniture', 'animal', 'plant']\n",
    "size = (224, 224)\n",
    "\n",
    "img_feature = []\n",
    "path_feature = []"
   ]
  },
  {
   "cell_type": "code",
   "execution_count": 13,
   "metadata": {
    "id": "--ZZg8ddDavx"
   },
   "outputs": [],
   "source": [
    "def path_to_image(path, size):\n",
    "    img = image.load_img(path, target_size=size)\n",
    "    x = image.img_to_array(img)\n",
    "    x = np.expand_dims(x, axis=0)\n",
    "    return x\n",
    "\n",
    "\n",
    "def folder_to_images(folder, size=(224, 224)):\n",
    "\n",
    "    list_dir = [folder + '/' + name for name in os.listdir(folder) if name.endswith((\".jpg\", \".png\", \".jpeg\"))]\n",
    "\n",
    "    i = 0\n",
    "    image_arr = np.zeros(shape=(len(list_dir), *size, 3))\n",
    "\n",
    "    image_path = []\n",
    "    for path in list_dir:\n",
    "        try:\n",
    "            image_arr[i,:] = path_to_image(path, size)\n",
    "            image_path.append(path)\n",
    "            i += 1\n",
    "\n",
    "        except Exception:\n",
    "            print(\"error: \", path)\n",
    "#             os.remove(path)\n",
    "\n",
    "    image_arr = tf.constant(image_arr, dtype=tf.float32)\n",
    "    image_path = np.array(image_path)\n",
    "    return image_arr, image_path"
   ]
  },
  {
   "cell_type": "markdown",
   "metadata": {
    "id": "p-ochOUylBET"
   },
   "source": [
    "# 4.0 Feature Extracted by Keras Model"
   ]
  },
  {
   "cell_type": "code",
   "execution_count": 34,
   "metadata": {
    "id": "odPGbO_GWdk3"
   },
   "outputs": [],
   "source": [
    "class Keras_FeatureExtractor: # Keras Model\n",
    "    def __init__(self, model_path):\n",
    "        self.model = ResNet50(weights=model_path, include_top=False, pooling='avg')\n",
    "    def extract(self, img):\n",
    "        x = preprocess_input(img)  # Subtracting avg values for each pixel\n",
    "        feature = self.model.predict(x, verbose=0)  # (1, 2048)\n",
    "        return feature # Normalize\n",
    "\n",
    "fe = Keras_FeatureExtractor('/content/image_retrieval/weight_resnet50.h5')"
   ]
  },
  {
   "cell_type": "code",
   "execution_count": 35,
   "metadata": {
    "colab": {
     "base_uri": "https://localhost:8080/"
    },
    "id": "7DW-0UUxxKIf",
    "outputId": "e18790c3-19cf-48f9-aabd-13e99ed53522"
   },
   "outputs": [
    {
     "name": "stderr",
     "output_type": "stream",
     "text": [
      "100%|██████████| 125/125 [04:37<00:00,  2.22s/it]"
     ]
    },
    {
     "name": "stdout",
     "output_type": "stream",
     "text": [
      "CPU times: user 2min 31s, sys: 37.8 s, total: 3min 9s\n",
      "Wall time: 4min 37s\n"
     ]
    },
    {
     "name": "stderr",
     "output_type": "stream",
     "text": [
      "\n"
     ]
    }
   ],
   "source": [
    "# GPU: Wall time: 5min 31s\n",
    "%%time\n",
    "start = time.time()\n",
    "for folder in tqdm(os.listdir(root_img_path)):\n",
    "    if folder.split(\"_\")[0] in dic_categories:\n",
    "        path = root_img_path + folder\n",
    "        images_np, images_path = folder_to_images(path)\n",
    "        path_feature.extend(np.array(images_path))\n",
    "        img_feature.extend(fe.extract(images_np))\n",
    "\n",
    "end = time.time()\n",
    "keras_time = end - start"
   ]
  },
  {
   "cell_type": "code",
   "execution_count": 36,
   "metadata": {
    "id": "aP6UGakAu2V9"
   },
   "outputs": [],
   "source": [
    "del fe"
   ]
  },
  {
   "cell_type": "markdown",
   "metadata": {
    "id": "gjyygV6xnQ2z"
   },
   "source": [
    "# 5.0 Feture Extracted with TensorRT Model"
   ]
  },
  {
   "cell_type": "code",
   "execution_count": 21,
   "metadata": {},
   "outputs": [
    {
     "name": "stdout",
     "output_type": "stream",
     "text": [
      "/mnt/q/Career/Projects_AI/image_retrieval\n"
     ]
    }
   ],
   "source": [
    "!pwd"
   ]
  },
  {
   "cell_type": "code",
   "execution_count": null,
   "metadata": {
    "id": "hJtYnzoeBL_Z"
   },
   "outputs": [
    {
     "name": "stdout",
     "output_type": "stream",
     "text": [
      "INFO:tensorflow:Assets written to: ./model_TRT/assets\n"
     ]
    },
    {
     "name": "stderr",
     "output_type": "stream",
     "text": [
      "INFO:tensorflow:Assets written to: ./model_TRT/assets\n"
     ]
    },
    {
     "name": "stdout",
     "output_type": "stream",
     "text": [
      "INFO:tensorflow:Linked TensorRT version: (8, 6, 1)\n"
     ]
    },
    {
     "name": "stderr",
     "output_type": "stream",
     "text": [
      "INFO:tensorflow:Linked TensorRT version: (8, 6, 1)\n"
     ]
    },
    {
     "name": "stdout",
     "output_type": "stream",
     "text": [
      "INFO:tensorflow:Loaded TensorRT version: (8, 6, 1)\n"
     ]
    },
    {
     "name": "stderr",
     "output_type": "stream",
     "text": [
      "INFO:tensorflow:Loaded TensorRT version: (8, 6, 1)\n",
      "2024-02-05 17:14:20.737104: I external/local_xla/xla/stream_executor/cuda/cuda_executor.cc:887] could not open file to read NUMA node: /sys/bus/pci/devices/0000:01:00.0/numa_node\n",
      "Your kernel may have been built without NUMA support.\n",
      "2024-02-05 17:14:20.737158: I tensorflow/core/grappler/devices.cc:66] Number of eligible GPUs (core count >= 8, compute capability >= 0.0): 0\n",
      "2024-02-05 17:14:20.737273: I tensorflow/core/grappler/clusters/single_machine.cc:361] Starting new session\n",
      "2024-02-05 17:14:20.737627: I external/local_xla/xla/stream_executor/cuda/cuda_executor.cc:887] could not open file to read NUMA node: /sys/bus/pci/devices/0000:01:00.0/numa_node\n",
      "Your kernel may have been built without NUMA support.\n",
      "2024-02-05 17:14:20.737664: I external/local_xla/xla/stream_executor/cuda/cuda_executor.cc:887] could not open file to read NUMA node: /sys/bus/pci/devices/0000:01:00.0/numa_node\n",
      "Your kernel may have been built without NUMA support.\n",
      "2024-02-05 17:14:20.737708: I external/local_xla/xla/stream_executor/cuda/cuda_executor.cc:887] could not open file to read NUMA node: /sys/bus/pci/devices/0000:01:00.0/numa_node\n",
      "Your kernel may have been built without NUMA support.\n",
      "2024-02-05 17:14:20.737916: I external/local_xla/xla/stream_executor/cuda/cuda_executor.cc:887] could not open file to read NUMA node: /sys/bus/pci/devices/0000:01:00.0/numa_node\n",
      "Your kernel may have been built without NUMA support.\n",
      "2024-02-05 17:14:20.737928: I tensorflow/core/common_runtime/gpu/gpu_device.cc:2022] Could not identify NUMA node of platform GPU id 0, defaulting to 0.  Your kernel may not have been built with NUMA support.\n",
      "2024-02-05 17:14:20.737957: I external/local_xla/xla/stream_executor/cuda/cuda_executor.cc:887] could not open file to read NUMA node: /sys/bus/pci/devices/0000:01:00.0/numa_node\n",
      "Your kernel may have been built without NUMA support.\n",
      "2024-02-05 17:14:20.737972: I tensorflow/core/common_runtime/gpu/gpu_device.cc:1929] Created device /job:localhost/replica:0/task:0/device:GPU:0 with 2873 MB memory:  -> device: 0, name: NVIDIA GeForce GTX 1050 Ti, pci bus id: 0000:01:00.0, compute capability: 6.1\n"
     ]
    },
    {
     "name": "stdout",
     "output_type": "stream",
     "text": [
      "INFO:tensorflow:Clearing prior device assignments in loaded saved model\n"
     ]
    },
    {
     "name": "stderr",
     "output_type": "stream",
     "text": [
      "INFO:tensorflow:Clearing prior device assignments in loaded saved model\n",
      "2024-02-05 17:14:23.201958: I external/local_xla/xla/stream_executor/cuda/cuda_executor.cc:887] could not open file to read NUMA node: /sys/bus/pci/devices/0000:01:00.0/numa_node\n",
      "Your kernel may have been built without NUMA support.\n",
      "2024-02-05 17:14:23.207427: I tensorflow/core/grappler/devices.cc:66] Number of eligible GPUs (core count >= 8, compute capability >= 0.0): 0\n",
      "2024-02-05 17:14:23.210082: I tensorflow/core/grappler/clusters/single_machine.cc:361] Starting new session\n",
      "2024-02-05 17:14:23.211185: I external/local_xla/xla/stream_executor/cuda/cuda_executor.cc:887] could not open file to read NUMA node: /sys/bus/pci/devices/0000:01:00.0/numa_node\n",
      "Your kernel may have been built without NUMA support.\n",
      "2024-02-05 17:14:23.211244: I external/local_xla/xla/stream_executor/cuda/cuda_executor.cc:887] could not open file to read NUMA node: /sys/bus/pci/devices/0000:01:00.0/numa_node\n",
      "Your kernel may have been built without NUMA support.\n",
      "2024-02-05 17:14:23.211270: I external/local_xla/xla/stream_executor/cuda/cuda_executor.cc:887] could not open file to read NUMA node: /sys/bus/pci/devices/0000:01:00.0/numa_node\n",
      "Your kernel may have been built without NUMA support.\n",
      "2024-02-05 17:14:23.212155: I external/local_xla/xla/stream_executor/cuda/cuda_executor.cc:887] could not open file to read NUMA node: /sys/bus/pci/devices/0000:01:00.0/numa_node\n",
      "Your kernel may have been built without NUMA support.\n",
      "2024-02-05 17:14:23.212186: I tensorflow/core/common_runtime/gpu/gpu_device.cc:2022] Could not identify NUMA node of platform GPU id 0, defaulting to 0.  Your kernel may not have been built with NUMA support.\n",
      "2024-02-05 17:14:23.212253: I external/local_xla/xla/stream_executor/cuda/cuda_executor.cc:887] could not open file to read NUMA node: /sys/bus/pci/devices/0000:01:00.0/numa_node\n",
      "Your kernel may have been built without NUMA support.\n",
      "2024-02-05 17:14:23.212283: I tensorflow/core/common_runtime/gpu/gpu_device.cc:1929] Created device /job:localhost/replica:0/task:0/device:GPU:0 with 2873 MB memory:  -> device: 0, name: NVIDIA GeForce GTX 1050 Ti, pci bus id: 0000:01:00.0, compute capability: 6.1\n",
      "2024-02-05 17:14:24.403481: W tensorflow/compiler/tf2tensorrt/convert/trt_optimization_pass.cc:186] Calibration with FP32 or FP16 is not implemented. Falling back to use_calibration = False.Note that the default value of use_calibration is True.\n",
      "2024-02-05 17:14:24.691124: W tensorflow/compiler/tf2tensorrt/segment/segment.cc:970] \n",
      "\n",
      "################################################################################\n",
      "TensorRT unsupported/non-converted OP Report:\n",
      "\t- NoOp -> 2x\n",
      "\t- Identity -> 1x\n",
      "\t- Placeholder -> 1x\n",
      "--------------------------------------------------------------------------------\n",
      "\t- Total nonconverted OPs: 4\n",
      "\t- Total nonconverted OP Types: 3\n",
      "For more information see https://docs.nvidia.com/deeplearning/frameworks/tf-trt-user-guide/index.html#supported-ops.\n",
      "################################################################################\n",
      "\n",
      "2024-02-05 17:14:24.716637: W tensorflow/compiler/tf2tensorrt/segment/segment.cc:1298] The environment variable TF_TRT_MAX_ALLOWED_ENGINES=20 has no effect since there are only 1 TRT Engines with  at least minimum_segment_size=3 nodes.\n",
      "2024-02-05 17:14:24.723839: I tensorflow/compiler/tf2tensorrt/convert/convert_graph.cc:799] Number of TensorRT candidate segments: 1\n"
     ]
    }
   ],
   "source": [
    "def Conver_to_TensorRT(model_path='imagenet'):\n",
    "    model = ResNet50(weights=model_path, include_top=False, pooling='avg')\n",
    "    # Save the entire model as a TensorFlow SavedModel.\n",
    "    tf.saved_model.save(model, \"./model_TRT\")\n",
    "    converter = trt.TrtGraphConverterV2(input_saved_model_dir='./model_TRT',\n",
    "                                   precision_mode=trt.TrtPrecisionMode.FP16,\n",
    "                                    max_workspace_size_bytes=8000000000)\n",
    "    converter.convert()\n",
    "    converter.save(output_saved_model_dir='./model_TRT_FP16')\n",
    "\n",
    "Conver_to_TensorRT('/mnt/q/Career/Projects_AI/image_retrieval/weight_resnet50.h5')"
   ]
  },
  {
   "cell_type": "code",
   "execution_count": 38,
   "metadata": {
    "id": "J1LNdF0mwrmQ"
   },
   "outputs": [],
   "source": [
    "class TRT_FeatureExtractor: # TensorRT Model\n",
    "    def __init__(self, model_path):\n",
    "        self.model = tf.saved_model.load(model_path, tags=[tag_constants.SERVING])\n",
    "        self.infer = self.model.signatures['serving_default']\n",
    "\n",
    "    def extract(self, img, batch_size=32):\n",
    "        x = preprocess_input(img)  # Subtracting avg values for each pixel\n",
    "        features = []\n",
    "        step = math.ceil(img.shape[0] / batch_size)\n",
    "        for s in range(step):\n",
    "          features.extend(self.infer(x[batch_size*s:batch_size*(s+1)])['avg_pool'].numpy())  # (1, 2048)\n",
    "        return features # Normalize\n",
    "\n",
    "fe = TRT_FeatureExtractor('/content/model_TRT_FP16')"
   ]
  },
  {
   "cell_type": "markdown",
   "metadata": {
    "id": "0-8y_QMXrHvs"
   },
   "source": []
  },
  {
   "cell_type": "code",
   "execution_count": 67,
   "metadata": {
    "colab": {
     "base_uri": "https://localhost:8080/",
     "height": 369
    },
    "id": "ypFc9fJ8Dx6Z",
    "outputId": "f540ed6f-3b01-479b-8400-3225e5f6cb85"
   },
   "outputs": [
    {
     "name": "stderr",
     "output_type": "stream",
     "text": [
      "100%|██████████| 125/125 [02:31<00:00,  1.21s/it]\n"
     ]
    },
    {
     "ename": "FileNotFoundError",
     "evalue": "[Errno 2] No such file or directory: 'content/all_fearture.npz'",
     "output_type": "error",
     "traceback": [
      "\u001b[0;31m---------------------------------------------------------------------------\u001b[0m",
      "\u001b[0;31mFileNotFoundError\u001b[0m                         Traceback (most recent call last)",
      "\u001b[0;32m<timed exec>\u001b[0m in \u001b[0;36m<module>\u001b[0;34m\u001b[0m\n",
      "\u001b[0;32m/usr/local/lib/python3.10/dist-packages/numpy/core/overrides.py\u001b[0m in \u001b[0;36msavez_compressed\u001b[0;34m(*args, **kwargs)\u001b[0m\n",
      "\u001b[0;32m/usr/local/lib/python3.10/dist-packages/numpy/lib/npyio.py\u001b[0m in \u001b[0;36msavez_compressed\u001b[0;34m(file, *args, **kwds)\u001b[0m\n\u001b[1;32m    684\u001b[0m \u001b[0;34m\u001b[0m\u001b[0m\n\u001b[1;32m    685\u001b[0m     \"\"\"\n\u001b[0;32m--> 686\u001b[0;31m     \u001b[0m_savez\u001b[0m\u001b[0;34m(\u001b[0m\u001b[0mfile\u001b[0m\u001b[0;34m,\u001b[0m \u001b[0margs\u001b[0m\u001b[0;34m,\u001b[0m \u001b[0mkwds\u001b[0m\u001b[0;34m,\u001b[0m \u001b[0;32mTrue\u001b[0m\u001b[0;34m)\u001b[0m\u001b[0;34m\u001b[0m\u001b[0;34m\u001b[0m\u001b[0m\n\u001b[0m\u001b[1;32m    687\u001b[0m \u001b[0;34m\u001b[0m\u001b[0m\n\u001b[1;32m    688\u001b[0m \u001b[0;34m\u001b[0m\u001b[0m\n",
      "\u001b[0;32m/usr/local/lib/python3.10/dist-packages/numpy/lib/npyio.py\u001b[0m in \u001b[0;36m_savez\u001b[0;34m(file, args, kwds, compress, allow_pickle, pickle_kwargs)\u001b[0m\n\u001b[1;32m    710\u001b[0m         \u001b[0mcompression\u001b[0m \u001b[0;34m=\u001b[0m \u001b[0mzipfile\u001b[0m\u001b[0;34m.\u001b[0m\u001b[0mZIP_STORED\u001b[0m\u001b[0;34m\u001b[0m\u001b[0;34m\u001b[0m\u001b[0m\n\u001b[1;32m    711\u001b[0m \u001b[0;34m\u001b[0m\u001b[0m\n\u001b[0;32m--> 712\u001b[0;31m     \u001b[0mzipf\u001b[0m \u001b[0;34m=\u001b[0m \u001b[0mzipfile_factory\u001b[0m\u001b[0;34m(\u001b[0m\u001b[0mfile\u001b[0m\u001b[0;34m,\u001b[0m \u001b[0mmode\u001b[0m\u001b[0;34m=\u001b[0m\u001b[0;34m\"w\"\u001b[0m\u001b[0;34m,\u001b[0m \u001b[0mcompression\u001b[0m\u001b[0;34m=\u001b[0m\u001b[0mcompression\u001b[0m\u001b[0;34m)\u001b[0m\u001b[0;34m\u001b[0m\u001b[0;34m\u001b[0m\u001b[0m\n\u001b[0m\u001b[1;32m    713\u001b[0m \u001b[0;34m\u001b[0m\u001b[0m\n\u001b[1;32m    714\u001b[0m     \u001b[0;32mfor\u001b[0m \u001b[0mkey\u001b[0m\u001b[0;34m,\u001b[0m \u001b[0mval\u001b[0m \u001b[0;32min\u001b[0m \u001b[0mnamedict\u001b[0m\u001b[0;34m.\u001b[0m\u001b[0mitems\u001b[0m\u001b[0;34m(\u001b[0m\u001b[0;34m)\u001b[0m\u001b[0;34m:\u001b[0m\u001b[0;34m\u001b[0m\u001b[0;34m\u001b[0m\u001b[0m\n",
      "\u001b[0;32m/usr/local/lib/python3.10/dist-packages/numpy/lib/npyio.py\u001b[0m in \u001b[0;36mzipfile_factory\u001b[0;34m(file, *args, **kwargs)\u001b[0m\n\u001b[1;32m    101\u001b[0m     \u001b[0;32mimport\u001b[0m \u001b[0mzipfile\u001b[0m\u001b[0;34m\u001b[0m\u001b[0;34m\u001b[0m\u001b[0m\n\u001b[1;32m    102\u001b[0m     \u001b[0mkwargs\u001b[0m\u001b[0;34m[\u001b[0m\u001b[0;34m'allowZip64'\u001b[0m\u001b[0;34m]\u001b[0m \u001b[0;34m=\u001b[0m \u001b[0;32mTrue\u001b[0m\u001b[0;34m\u001b[0m\u001b[0;34m\u001b[0m\u001b[0m\n\u001b[0;32m--> 103\u001b[0;31m     \u001b[0;32mreturn\u001b[0m \u001b[0mzipfile\u001b[0m\u001b[0;34m.\u001b[0m\u001b[0mZipFile\u001b[0m\u001b[0;34m(\u001b[0m\u001b[0mfile\u001b[0m\u001b[0;34m,\u001b[0m \u001b[0;34m*\u001b[0m\u001b[0margs\u001b[0m\u001b[0;34m,\u001b[0m \u001b[0;34m**\u001b[0m\u001b[0mkwargs\u001b[0m\u001b[0;34m)\u001b[0m\u001b[0;34m\u001b[0m\u001b[0;34m\u001b[0m\u001b[0m\n\u001b[0m\u001b[1;32m    104\u001b[0m \u001b[0;34m\u001b[0m\u001b[0m\n\u001b[1;32m    105\u001b[0m \u001b[0;34m\u001b[0m\u001b[0m\n",
      "\u001b[0;32m/usr/lib/python3.10/zipfile.py\u001b[0m in \u001b[0;36m__init__\u001b[0;34m(self, file, mode, compression, allowZip64, compresslevel, strict_timestamps)\u001b[0m\n\u001b[1;32m   1249\u001b[0m             \u001b[0;32mwhile\u001b[0m \u001b[0;32mTrue\u001b[0m\u001b[0;34m:\u001b[0m\u001b[0;34m\u001b[0m\u001b[0;34m\u001b[0m\u001b[0m\n\u001b[1;32m   1250\u001b[0m                 \u001b[0;32mtry\u001b[0m\u001b[0;34m:\u001b[0m\u001b[0;34m\u001b[0m\u001b[0;34m\u001b[0m\u001b[0m\n\u001b[0;32m-> 1251\u001b[0;31m                     \u001b[0mself\u001b[0m\u001b[0;34m.\u001b[0m\u001b[0mfp\u001b[0m \u001b[0;34m=\u001b[0m \u001b[0mio\u001b[0m\u001b[0;34m.\u001b[0m\u001b[0mopen\u001b[0m\u001b[0;34m(\u001b[0m\u001b[0mfile\u001b[0m\u001b[0;34m,\u001b[0m \u001b[0mfilemode\u001b[0m\u001b[0;34m)\u001b[0m\u001b[0;34m\u001b[0m\u001b[0;34m\u001b[0m\u001b[0m\n\u001b[0m\u001b[1;32m   1252\u001b[0m                 \u001b[0;32mexcept\u001b[0m \u001b[0mOSError\u001b[0m\u001b[0;34m:\u001b[0m\u001b[0;34m\u001b[0m\u001b[0;34m\u001b[0m\u001b[0m\n\u001b[1;32m   1253\u001b[0m                     \u001b[0;32mif\u001b[0m \u001b[0mfilemode\u001b[0m \u001b[0;32min\u001b[0m \u001b[0mmodeDict\u001b[0m\u001b[0;34m:\u001b[0m\u001b[0;34m\u001b[0m\u001b[0;34m\u001b[0m\u001b[0m\n",
      "\u001b[0;31mFileNotFoundError\u001b[0m: [Errno 2] No such file or directory: 'content/all_fearture.npz'"
     ]
    }
   ],
   "source": [
    "%%time\n",
    "start = time.time()\n",
    "for folder in tqdm(os.listdir(root_img_path)):\n",
    "    if folder.split(\"_\")[0] in dic_categories:\n",
    "        path = root_img_path + folder\n",
    "        image_arr, image_path = folder_to_images(path)\n",
    "        path_feature.extend(image_path)\n",
    "        img_feature.extend(fe.extract(image_arr))\n",
    "\n",
    "end = time.time()\n",
    "tensorrt_time = end - start"
   ]
  },
  {
   "cell_type": "code",
   "execution_count": 72,
   "metadata": {
    "id": "TVOR9HTP0eSS"
   },
   "outputs": [],
   "source": [
    "np.savez_compressed(root_fearure_path+\"all_fearture\", array1=np.array(path_feature), array2=np.array(img_feature))"
   ]
  },
  {
   "cell_type": "code",
   "execution_count": 75,
   "metadata": {
    "colab": {
     "base_uri": "https://localhost:8080/"
    },
    "id": "fL6ZdVED1dPj",
    "outputId": "bed84d92-875e-4dda-fcc5-c3fde0ef310d"
   },
   "outputs": [
    {
     "name": "stdout",
     "output_type": "stream",
     "text": [
      "True\n"
     ]
    }
   ],
   "source": [
    "loaded = np.load('/content/all_fearture.npz')\n",
    "print(np.array_equal(path_feature, loaded['array1']))"
   ]
  },
  {
   "cell_type": "code",
   "execution_count": 68,
   "metadata": {
    "colab": {
     "base_uri": "https://localhost:8080/"
    },
    "id": "6Ja3rFiAz_Ge",
    "outputId": "48ce08ff-a771-449d-f13f-7ef0bae377ed"
   },
   "outputs": [
    {
     "name": "stdout",
     "output_type": "stream",
     "text": [
      "  adding: content/model_TRT_FP16/ (stored 0%)\n",
      "  adding: content/model_TRT_FP16/variables/ (stored 0%)\n",
      "  adding: content/model_TRT_FP16/variables/variables.index (deflated 33%)\n",
      "  adding: content/model_TRT_FP16/variables/variables.data-00000-of-00001 (deflated 6%)\n",
      "  adding: content/model_TRT_FP16/saved_model.pb (deflated 7%)\n",
      "  adding: content/model_TRT_FP16/fingerprint.pb (stored 0%)\n",
      "  adding: content/model_TRT_FP16/assets/ (stored 0%)\n"
     ]
    }
   ],
   "source": [
    "!zip -r /content/model.zip /content/model_TRT_FP16"
   ]
  },
  {
   "cell_type": "code",
   "execution_count": 73,
   "metadata": {
    "colab": {
     "base_uri": "https://localhost:8080/",
     "height": 17
    },
    "id": "GnEzPA310Gbj",
    "outputId": "b8a8a10a-1365-460d-cca7-f3cca207944e"
   },
   "outputs": [
    {
     "data": {
      "application/javascript": "\n    async function download(id, filename, size) {\n      if (!google.colab.kernel.accessAllowed) {\n        return;\n      }\n      const div = document.createElement('div');\n      const label = document.createElement('label');\n      label.textContent = `Downloading \"${filename}\": `;\n      div.appendChild(label);\n      const progress = document.createElement('progress');\n      progress.max = size;\n      div.appendChild(progress);\n      document.body.appendChild(div);\n\n      const buffers = [];\n      let downloaded = 0;\n\n      const channel = await google.colab.kernel.comms.open(id);\n      // Send a message to notify the kernel that we're ready.\n      channel.send({})\n\n      for await (const message of channel.messages) {\n        // Send a message to notify the kernel that we're ready.\n        channel.send({})\n        if (message.buffers) {\n          for (const buffer of message.buffers) {\n            buffers.push(buffer);\n            downloaded += buffer.byteLength;\n            progress.value = downloaded;\n          }\n        }\n      }\n      const blob = new Blob(buffers, {type: 'application/binary'});\n      const a = document.createElement('a');\n      a.href = window.URL.createObjectURL(blob);\n      a.download = filename;\n      div.appendChild(a);\n      a.click();\n      div.remove();\n    }\n  ",
      "text/plain": [
       "<IPython.core.display.Javascript object>"
      ]
     },
     "metadata": {},
     "output_type": "display_data"
    },
    {
     "data": {
      "application/javascript": "download(\"download_56036c92-83b2-4265-9f3e-79385748a50e\", \"model.zip\", 87439099)",
      "text/plain": [
       "<IPython.core.display.Javascript object>"
      ]
     },
     "metadata": {},
     "output_type": "display_data"
    }
   ],
   "source": [
    "from google.colab import files\n",
    "files.download(\"/content/model.zip\")"
   ]
  },
  {
   "cell_type": "markdown",
   "metadata": {
    "id": "DaC2yz3ntXLN"
   },
   "source": [
    "# 6.0 Extraction time"
   ]
  },
  {
   "cell_type": "code",
   "execution_count": 65,
   "metadata": {
    "colab": {
     "base_uri": "https://localhost:8080/",
     "height": 453
    },
    "id": "BvpJuD7qw__a",
    "outputId": "9c27d66c-1905-4369-80c9-c5228400b436"
   },
   "outputs": [
    {
     "data": {
      "image/png": "[encoded data removed]",
      "text/plain": [
       "<Figure size 640x480 with 1 Axes>"
      ]
     },
     "metadata": {},
     "output_type": "display_data"
    }
   ],
   "source": [
    "import matplotlib.pyplot as plt\n",
    "\n",
    "# Define data\n",
    "data = [keras_time / 60, tensorrt_time / 60]\n",
    "x_labels = ['Keras', 'TensorRT']\n",
    "\n",
    "category = 'Extraction time'\n",
    "colors = ['lightgreen', 'red']\n",
    "\n",
    "# Prepare bar positions\n",
    "bar_width = 0.9\n",
    "x_pos = [0, 1]\n",
    "\n",
    "# Create bars\n",
    "plt.bar(x_pos, data, color=colors, width=bar_width, label=x_labels)\n",
    "\n",
    "# Customize plot\n",
    "# plt.xlabel('Category', fontweight='bold', fontsize=12)\n",
    "plt.ylabel('Minutes', fontweight='bold', fontsize=12)\n",
    "plt.xticks(x_pos, x_labels)\n",
    "plt.yticks(np.arange(0, max(data) + 0.5, 0.5))\n",
    "plt.title('Comparison of Two Values for ' + category, fontweight='bold', fontsize=14)\n",
    "plt.legend()\n",
    "\n",
    "# Display plot\n",
    "plt.show()"
   ]
  },
  {
   "cell_type": "markdown",
   "metadata": {
    "id": "dgYcUzmkzQBV"
   },
   "source": []
  }
 ],
 "metadata": {
  "accelerator": "GPU",
  "colab": {
   "gpuType": "T4",
   "provenance": []
  },
  "kernelspec": {
   "display_name": "Python 3 (ipykernel)",
   "language": "python",
   "name": "python3"
  },
  "language_info": {
   "codemirror_mode": {
    "name": "ipython",
    "version": 3
   },
   "file_extension": ".py",
   "mimetype": "text/x-python",
   "name": "python",
   "nbconvert_exporter": "python",
   "pygments_lexer": "ipython3",
   "version": "3.10.13"
  }
 },
 "nbformat": 4,
 "nbformat_minor": 4
}
