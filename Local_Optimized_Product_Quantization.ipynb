{
 "cells": [
  {
   "cell_type": "code",
   "execution_count": 1,
   "id": "c3a4dcd7-92b1-4370-aa04-fd58f4d86deb",
   "metadata": {},
   "outputs": [
    {
     "name": "stdout",
     "output_type": "stream",
     "text": [
      "Requirement already satisfied: numpy in /home/bequyttt/miniconda3/envs/image_retrieval/lib/python3.10/site-packages (1.26.3)\n",
      "Collecting scipy\n",
      "  Downloading scipy-1.12.0-cp310-cp310-manylinux_2_17_x86_64.manylinux2014_x86_64.whl.metadata (60 kB)\n",
      "\u001b[2K     \u001b[90m━━━━━━━━━━━━━━━━━━━━━━━━━━━━━━━━━━━━━━━\u001b[0m \u001b[32m60.4/60.4 kB\u001b[0m \u001b[31m860.7 kB/s\u001b[0m eta \u001b[36m0:00:00\u001b[0ma \u001b[36m0:00:01\u001b[0m\n",
      "\u001b[?25hRequirement already satisfied: numpy<1.29.0,>=1.22.4 in /home/bequyttt/miniconda3/envs/image_retrieval/lib/python3.10/site-packages (from scipy) (1.26.3)\n",
      "Downloading scipy-1.12.0-cp310-cp310-manylinux_2_17_x86_64.manylinux2014_x86_64.whl (38.4 MB)\n",
      "\u001b[2K   \u001b[90m━━━━━━━━━━━━━━━━━━━━━━━━━━━━━━━━━━━━━━━━\u001b[0m \u001b[32m38.4/38.4 MB\u001b[0m \u001b[31m11.9 MB/s\u001b[0m eta \u001b[36m0:00:00\u001b[0m00:01\u001b[0m00:01\u001b[0m\n",
      "\u001b[?25hInstalling collected packages: scipy\n",
      "Successfully installed scipy-1.12.0\n",
      "Collecting faiss-cpu\n",
      "  Downloading faiss_cpu-1.7.4-cp310-cp310-manylinux_2_17_x86_64.manylinux2014_x86_64.whl (17.6 MB)\n",
      "\u001b[2K     \u001b[90m━━━━━━━━━━━━━━━━━━━━━━━━━━━━━━━━━━━━━━━━\u001b[0m \u001b[32m17.6/17.6 MB\u001b[0m \u001b[31m1.4 MB/s\u001b[0m eta \u001b[36m0:00:00\u001b[0m00:01\u001b[0m00:01\u001b[0m\n",
      "\u001b[?25hInstalling collected packages: faiss-cpu\n",
      "Successfully installed faiss-cpu-1.7.4\n"
     ]
    }
   ],
   "source": [
    "!pip install numpy\n",
    "!pip install scipy\n",
    "!pip install faiss-cpu"
   ]
  },
  {
   "cell_type": "markdown",
   "id": "ffd17c23-3b64-4793-abba-1e62615a7af9",
   "metadata": {},
   "source": [
    "https://towardsdatascience.com/similarity-search-knn-inverted-file-index-7cab80cc0e79"
   ]
  },
  {
   "cell_type": "code",
   "execution_count": 2,
   "id": "08f39dfc-32f0-4978-aedd-c58857c1bdf9",
   "metadata": {},
   "outputs": [],
   "source": [
    "import numpy as np\n",
    "from scipy.cluster.vq import vq, kmeans2\n",
    "from scipy.spatial.distance import cdist\n",
    "import faiss"
   ]
  },
  {
   "cell_type": "markdown",
   "id": "4dd1811d-0a88-47fb-a5cc-dd063c6950eb",
   "metadata": {},
   "source": [
    "# Load Data"
   ]
  },
  {
   "cell_type": "code",
   "execution_count": 4,
   "id": "248a2c57-b775-4765-94be-3afbdee6eb4b",
   "metadata": {},
   "outputs": [],
   "source": [
    "data = np.load('features/all_feartures_trt.npz')"
   ]
  },
  {
   "cell_type": "code",
   "execution_count": 5,
   "id": "3a2fe394-4cbc-44d8-b1aa-65c679feedca",
   "metadata": {},
   "outputs": [],
   "source": [
    "feature = data['feature']\n",
    "path = data['path']"
   ]
  },
  {
   "cell_type": "code",
   "execution_count": 6,
   "id": "466c0ca9-82f6-4863-b9c0-bd90128b299a",
   "metadata": {},
   "outputs": [],
   "source": [
    "d = feature.shape[1]\n",
    "nlist = 100\n",
    "M = 16\n",
    "nbits = 8"
   ]
  },
  {
   "cell_type": "code",
   "execution_count": 8,
   "id": "8e20aa6d-3b96-4464-8441-086a59a31588",
   "metadata": {},
   "outputs": [],
   "source": [
    "quantizer = faiss.IndexFlatL2(d)\n",
    "index = faiss.IndexIVFPQ(quantizer, d, nlist, M, nbits)"
   ]
  },
  {
   "cell_type": "code",
   "execution_count": 9,
   "id": "9ff7ba50-decb-4d88-bd92-d0f6158ef59e",
   "metadata": {},
   "outputs": [],
   "source": [
    "index.train(feature)\n",
    "index.add(feature)"
   ]
  },
  {
   "cell_type": "code",
   "execution_count": 10,
   "id": "f3b91a41-39ff-43ae-b03a-16cc6b10614e",
   "metadata": {},
   "outputs": [],
   "source": [
    "index.nprobe = 100"
   ]
  },
  {
   "cell_type": "code",
   "execution_count": 11,
   "id": "2779df6e-872d-4fbf-8606-db60f3879524",
   "metadata": {},
   "outputs": [],
   "source": [
    "D, I = index.search(feature[:1], 2)"
   ]
  },
  {
   "cell_type": "code",
   "execution_count": 12,
   "id": "ffa5ce97-f351-4bbb-a5af-c2b3a0a2bdb3",
   "metadata": {},
   "outputs": [
    {
     "data": {
      "text/plain": [
       "array([   0, 2390])"
      ]
     },
     "execution_count": 12,
     "metadata": {},
     "output_type": "execute_result"
    }
   ],
   "source": [
    "I[0]"
   ]
  },
  {
   "cell_type": "code",
   "execution_count": 13,
   "id": "77e0ab99-b275-46ed-9803-10ef2b8b5cd4",
   "metadata": {},
   "outputs": [
    {
     "name": "stdout",
     "output_type": "stream",
     "text": [
      "(256, 10)\n",
      "[[6. 6. 6. 6. 6. 6. 6. 6. 6. 6.]]\n",
      "(1, 10)\n"
     ]
    }
   ],
   "source": [
    "d = 10                           # dimension\n",
    "nb = 256                      # database size\n",
    "nq = 1                       # nb of queries\n",
    "np.random.seed(1234)             # make reproducible\n",
    "\n",
    "# Use numpy.tile to repeat values along rows\n",
    "xb = np.tile(np.arange(1, nb + 1), (d, 1)).astype('float32').T\n",
    "print(xb.shape)\n",
    "xq = xb[5,:]\n",
    "xq = xq.reshape(1,xq.shape[0])\n",
    "print(xq)\n",
    "print(xq.shape)"
   ]
  },
  {
   "cell_type": "code",
   "execution_count": 14,
   "id": "f69a6a16-8f74-4e4d-a209-3b6570803b0f",
   "metadata": {},
   "outputs": [
    {
     "name": "stdout",
     "output_type": "stream",
     "text": [
      "(256, 10)\n",
      "[[6. 6. 6. 6. 6. 6. 6. 6. 6. 6.]]\n",
      "(1, 10)\n",
      "[[ 0  1  2  3 -1 -1 -1 -1 -1 -1]]\n",
      "(1, 10)\n",
      "[[5 4 6 3 7 2 8 1 9 0]]\n"
     ]
    },
    {
     "name": "stderr",
     "output_type": "stream",
     "text": [
      "WARNING clustering 256 points to 100 centroids: please provide at least 3900 training points\n",
      "WARNING clustering 256 points to 256 centroids: please provide at least 9984 training points\n",
      "WARNING clustering 256 points to 256 centroids: please provide at least 9984 training points\n",
      "WARNING clustering 256 points to 256 centroids: please provide at least 9984 training points\n",
      "WARNING clustering 256 points to 256 centroids: please provide at least 9984 training points\n",
      "WARNING clustering 256 points to 256 centroids: please provide at least 9984 training points\n"
     ]
    }
   ],
   "source": [
    "import numpy as np\n",
    "\n",
    "d = 10                           # dimension\n",
    "nb = 256                      # database size\n",
    "nq = 1                       # nb of queries\n",
    "np.random.seed(1234)             # make reproducible\n",
    "\n",
    "# Use numpy.tile to repeat values along rows\n",
    "xb = np.tile(np.arange(1, nb + 1), (d, 1)).astype('float32').T\n",
    "print(xb.shape)\n",
    "xq = xb[5,:]\n",
    "xq = xq.reshape(1,xq.shape[0])\n",
    "print(xq)\n",
    "print(xq.shape)\n",
    "\n",
    "\n",
    "\n",
    "\n",
    "\n",
    "nlist = 100\n",
    "m = 5 # number of codebook\n",
    "k = 10 \n",
    "quantizer = faiss.IndexFlatL2(d)  # this remains the same\n",
    "index = faiss.IndexIVFPQ(quantizer, d, nlist, m, 8)\n",
    "                                  # 8 specifies that each sub-vector is encoded as 8 bits\n",
    "index.train(xb)\n",
    "index.add(xb)\n",
    "D, I = index.search(xb[:1], k) # sanity check\n",
    "print(I)\n",
    "print(I.shape)\n",
    "index.nprobe = 10            # make comparable with experiment above\n",
    "D, I = index.search(xq, k)# search\n",
    "\n",
    "print(I[-1:])"
   ]
  },
  {
   "cell_type": "code",
   "execution_count": 47,
   "id": "fb5e5380-51b4-4be9-8284-eefb4f65ae4d",
   "metadata": {},
   "outputs": [],
   "source": [
    "import _pickle as pickle"
   ]
  },
  {
   "cell_type": "code",
   "execution_count": 48,
   "id": "bedc754c-23e6-4629-a5ba-e9b7be75457b",
   "metadata": {},
   "outputs": [],
   "source": [
    "def save_object(obj, filename):\n",
    "    with open(filename, 'wb') as outp:  # Overwrites any existing file.\n",
    "        pickle.dump(obj, outp)\n",
    "\n",
    "# sample usage\n",
    "save_object(index, 'index.pkl')"
   ]
  },
  {
   "cell_type": "code",
   "execution_count": 49,
   "id": "1bbc47db-73e1-4e4b-abf4-6fb29c9d1c92",
   "metadata": {},
   "outputs": [],
   "source": [
    "with open('index.pkl', 'rb') as inp:\n",
    "    loaded_index = pickle.load(inp)"
   ]
  },
  {
   "cell_type": "code",
   "execution_count": 45,
   "id": "737e6304-0c29-4373-ae95-08153e7b2aa4",
   "metadata": {},
   "outputs": [
    {
     "data": {
      "text/plain": [
       "True"
      ]
     },
     "execution_count": 45,
     "metadata": {},
     "output_type": "execute_result"
    }
   ],
   "source": [
    "loaded_index.is_trained"
   ]
  },
  {
   "cell_type": "code",
   "execution_count": 23,
   "id": "57f98414-c36a-431b-b470-3c5f360d978c",
   "metadata": {},
   "outputs": [
    {
     "name": "stdout",
     "output_type": "stream",
     "text": [
      "[[5 4 6 3 7 2 8 1 9 0]]\n"
     ]
    }
   ],
   "source": [
    "loaded_index.nprobe = 5 \n",
    "D, I = loaded_index.search(xq, k)     # search\n",
    "print(I[-5:])"
   ]
  }
 ],
 "metadata": {
  "kernelspec": {
   "display_name": "Python 3 (ipykernel)",
   "language": "python",
   "name": "python3"
  },
  "language_info": {
   "codemirror_mode": {
    "name": "ipython",
    "version": 3
   },
   "file_extension": ".py",
   "mimetype": "text/x-python",
   "name": "python",
   "nbconvert_exporter": "python",
   "pygments_lexer": "ipython3",
   "version": "3.10.13"
  }
 },
 "nbformat": 4,
 "nbformat_minor": 5
}
